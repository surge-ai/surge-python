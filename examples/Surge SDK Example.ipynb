{
 "cells": [
  {
   "cell_type": "code",
   "execution_count": null,
   "metadata": {},
   "outputs": [],
   "source": [
    "import surge\n",
    "# View your key at https://app.surgehq.ai/me \n",
    "surge.api_key = \"XXXXXXXXXXXXXXXXXXXXXX\"\n",
    "\n",
    "# Create project\n",
    "project = surge.Project.create(\n",
    "    name=\"Categorize this website\",\n",
    "    payment_per_response=0.0,\n",
    "    private_workforce=True,\n",
    "    num_workers_per_task=3,\n",
    "    fields_template='{{company}}',\n",
    "    instructions=\"You will be asked to categorize a company.\",\n",
    ")"
   ]
  },
  {
   "cell_type": "code",
   "execution_count": 15,
   "metadata": {},
   "outputs": [
    {
     "data": {
      "text/plain": [
       "'70277d0d-36dc-4ce4-bbcb-e57ca155ed90'"
      ]
     },
     "execution_count": 15,
     "metadata": {},
     "output_type": "execute_result"
    }
   ],
   "source": [
    "project.id"
   ]
  },
  {
   "cell_type": "code",
   "execution_count": 16,
   "metadata": {},
   "outputs": [],
   "source": [
    "# Retrieve the project again later\n",
    "project = surge.Project.retrieve(project.id)"
   ]
  },
  {
   "cell_type": "code",
   "execution_count": 17,
   "metadata": {},
   "outputs": [],
   "source": [
    "# Add tasks to the project\n",
    "new_tasks = project.create_tasks([{\n",
    "    \"company\": \"Surge\",\n",
    "}])"
   ]
  },
  {
   "cell_type": "code",
   "execution_count": 18,
   "metadata": {},
   "outputs": [],
   "source": [
    "\n",
    "tasks = project.list_tasks(page=1)"
   ]
  },
  {
   "cell_type": "code",
   "execution_count": 19,
   "metadata": {},
   "outputs": [
    {
     "data": {
      "text/plain": [
       "<surge.Task#4a55ca87-bc43-48ec-9c47-a95e71744f8e project_id=\"70277d0d-36dc-4ce4-bbcb-e57ca155ed90\" status=\"created\" fields=\"{'company': 'Surge'}\" responses=\"[]\" is_complete=\"False\">"
      ]
     },
     "execution_count": 19,
     "metadata": {},
     "output_type": "execute_result"
    }
   ],
   "source": [
    "tasks[0]"
   ]
  },
  {
   "cell_type": "code",
   "execution_count": 20,
   "metadata": {},
   "outputs": [],
   "source": [
    "# Retrieve single task later\n",
    "task = surge.Task.retrieve(task_id = tasks[0].id)\n"
   ]
  },
  {
   "cell_type": "code",
   "execution_count": 21,
   "metadata": {},
   "outputs": [
    {
     "data": {
      "text/plain": [
       "<surge.Task#4a55ca87-bc43-48ec-9c47-a95e71744f8e project_id=\"70277d0d-36dc-4ce4-bbcb-e57ca155ed90\" status=\"created\" fields=\"{'company': 'Surge'}\" responses=\"[]\" is_complete=\"False\">"
      ]
     },
     "execution_count": 21,
     "metadata": {},
     "output_type": "execute_result"
    }
   ],
   "source": [
    "# Retrieve all tasks later\n",
    "tasks = project.list_tasks(page=1)\n",
    "tasks[0]"
   ]
  }
 ],
 "metadata": {
  "kernelspec": {
   "display_name": "base",
   "language": "python",
   "name": "python3"
  },
  "language_info": {
   "codemirror_mode": {
    "name": "ipython",
    "version": 3
   },
   "file_extension": ".py",
   "mimetype": "text/x-python",
   "name": "python",
   "nbconvert_exporter": "python",
   "pygments_lexer": "ipython3",
   "version": "3.12.9"
  }
 },
 "nbformat": 4,
 "nbformat_minor": 4
}
