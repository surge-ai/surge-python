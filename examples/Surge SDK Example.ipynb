{
 "cells": [
  {
   "cell_type": "code",
   "execution_count": 3,
   "metadata": {},
   "outputs": [],
   "source": [
    "import surge\n",
    "from surge.questions import (FreeResponseQuestion, MultipleChoiceQuestion,\n",
    "                             CheckboxQuestion)\n",
    "# View your key at https://app.surgehq.ai/me \n",
    "surge.api_key = \"XXXXXXXXXXXXXXXXXXXXXX\"\n",
    "\n",
    "# Create questions to add to the project\n",
    "free_response_q = FreeResponseQuestion(\n",
    "    text=\"What is the name of the company at this website?\")\n",
    "\n",
    "multiple_choice_q = MultipleChoiceQuestion(\n",
    "    text=\"What category does this company belong to?\",\n",
    "    options=[\"Tech\", \"Sports\", \"Gaming\"])\n",
    "\n",
    "checkbox_q = CheckboxQuestion(\n",
    "    text=\"Check all the social media accounts this company has\",\n",
    "    options=[\"Facebook\", \"Twitter\", \"Pinterest\", \"Google+\"])\n",
    "\n",
    "# Create project\n",
    "project = surge.Project.create(\n",
    "    name=\"Categorize this website\",\n",
    "    payment_per_response=0.0,\n",
    "    num_workers_per_task=3,\n",
    "    fields_template='{{company}}',\n",
    "    instructions=\"You will be asked to categorize a company.\",\n",
    "    questions=[free_response_q, multiple_choice_q, checkbox_q])"
   ]
  },
  {
   "cell_type": "code",
   "execution_count": 4,
   "metadata": {},
   "outputs": [
    {
     "data": {
      "text/plain": [
       "'ff64284e-5581-4fc3-a17e-22313c17e141'"
      ]
     },
     "execution_count": 4,
     "metadata": {},
     "output_type": "execute_result"
    }
   ],
   "source": [
    "project.id"
   ]
  },
  {
   "cell_type": "code",
   "execution_count": 5,
   "metadata": {},
   "outputs": [],
   "source": [
    "# Retrieve the project again later\n",
    "project = surge.Project.retrieve(project.id)"
   ]
  },
  {
   "cell_type": "code",
   "execution_count": 8,
   "metadata": {},
   "outputs": [],
   "source": [
    "# Add tasks to the project\n",
    "new_tasks = project.create_tasks([{\n",
    "    \"company\": \"Surge\",\n",
    "}])"
   ]
  },
  {
   "cell_type": "code",
   "execution_count": 9,
   "metadata": {},
   "outputs": [],
   "source": [
    "\n",
    "tasks = project.list_tasks(page=1)"
   ]
  },
  {
   "cell_type": "code",
   "execution_count": 10,
   "metadata": {},
   "outputs": [
    {
     "data": {
      "text/plain": [
       "<surge.Task#c8caf3ab-b51c-461f-b16c-043f0ee25202 project_id=\"ff64284e-5581-4fc3-a17e-22313c17e141\" status=\"created\" created_at=\"2021-09-18 16:42:26.860000+00:00\" is_gold_standard=\"False\" fields=\"{'company': 'Surge'}\" gold_standards_data=\"None\" is_complete=\"False\" responses=\"[]\">"
      ]
     },
     "execution_count": 10,
     "metadata": {},
     "output_type": "execute_result"
    }
   ],
   "source": [
    "tasks[0]"
   ]
  },
  {
   "cell_type": "code",
   "execution_count": 11,
   "metadata": {},
   "outputs": [],
   "source": [
    "# Retrieve single task later\n",
    "task = surge.Task.retrieve(task_id = tasks[0].id)\n"
   ]
  },
  {
   "cell_type": "code",
   "execution_count": 15,
   "metadata": {},
   "outputs": [
    {
     "data": {
      "text/plain": [
       "<surge.Task#c8caf3ab-b51c-461f-b16c-043f0ee25202 project_id=\"ff64284e-5581-4fc3-a17e-22313c17e141\" status=\"created\" created_at=\"2021-09-18 16:42:26.860000+00:00\" is_gold_standard=\"False\" fields=\"{'company': 'Surge'}\" gold_standards_data=\"None\" is_complete=\"False\" responses=\"[]\">"
      ]
     },
     "execution_count": 15,
     "metadata": {},
     "output_type": "execute_result"
    }
   ],
   "source": [
    "# Retrieve all tasks later\n",
    "tasks = project.list_tasks(page=1)\n",
    "tasks[0]"
   ]
  },
  {
   "cell_type": "code",
   "execution_count": null,
   "metadata": {},
   "outputs": [],
   "source": []
  },
  {
   "cell_type": "code",
   "execution_count": null,
   "metadata": {},
   "outputs": [],
   "source": []
  }
 ],
 "metadata": {
  "kernelspec": {
   "display_name": "Python 3",
   "language": "python",
   "name": "python3"
  },
  "language_info": {
   "codemirror_mode": {
    "name": "ipython",
    "version": 3
   },
   "file_extension": ".py",
   "mimetype": "text/x-python",
   "name": "python",
   "nbconvert_exporter": "python",
   "pygments_lexer": "ipython3",
   "version": "3.8.5"
  }
 },
 "nbformat": 4,
 "nbformat_minor": 4
}
